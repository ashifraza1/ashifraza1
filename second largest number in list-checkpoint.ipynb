{
 "cells": [
  {
   "cell_type": "code",
   "execution_count": 1,
   "id": "2ca4fd5a-d09f-4e9e-9da0-f3510738d054",
   "metadata": {},
   "outputs": [
    {
     "name": "stdin",
     "output_type": "stream",
     "text": [
      " 4\n",
      " 23\n",
      " 56\n",
      " 39\n",
      " 11\n"
     ]
    },
    {
     "name": "stdout",
     "output_type": "stream",
     "text": [
      "39\n"
     ]
    }
   ],
   "source": [
    "#WAP to find the second largest number in a list\n",
    "s=int(input())\n",
    "list_1=[]\n",
    "for i in range(s):\n",
    "  list_1.append(int(input()))\n",
    "  list_1.sort()\n",
    "print(list_1[2])"
   ]
  }
 ],
 "metadata": {
  "kernelspec": {
   "display_name": "Python 3 (ipykernel)",
   "language": "python",
   "name": "python3"
  },
  "language_info": {
   "codemirror_mode": {
    "name": "ipython",
    "version": 3
   },
   "file_extension": ".py",
   "mimetype": "text/x-python",
   "name": "python",
   "nbconvert_exporter": "python",
   "pygments_lexer": "ipython3",
   "version": "3.12.4"
  }
 },
 "nbformat": 4,
 "nbformat_minor": 5
}
