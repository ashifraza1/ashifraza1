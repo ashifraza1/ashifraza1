{
 "cells": [
  {
   "cell_type": "code",
   "execution_count": 1,
   "id": "0281d89a-62a0-4741-a45c-3c679564c3dd",
   "metadata": {},
   "outputs": [
    {
     "name": "stdout",
     "output_type": "stream",
     "text": [
      "e\n",
      "p\n"
     ]
    }
   ],
   "source": [
    "#write a program to get the 4th element and 4th element from last of a tuple.\n",
    "tuple=(\"faceprep\")\n",
    "print(tuple[3])\n",
    "print(tuple[-4])"
   ]
  },
  {
   "cell_type": "code",
   "execution_count": null,
   "id": "e1f3a8a4-a3f3-4dd0-bcbb-181a7b381f0b",
   "metadata": {},
   "outputs": [],
   "source": [
    "tuple=input(\"enter the letter\")\n",
    "for i in range(len(tuple)):\n",
    "    print(tuple[3])\n",
    "    print(tuple[-4])\n",
    "    break"
   ]
  }
 ],
 "metadata": {
  "kernelspec": {
   "display_name": "Python 3 (ipykernel)",
   "language": "python",
   "name": "python3"
  },
  "language_info": {
   "codemirror_mode": {
    "name": "ipython",
    "version": 3
   },
   "file_extension": ".py",
   "mimetype": "text/x-python",
   "name": "python",
   "nbconvert_exporter": "python",
   "pygments_lexer": "ipython3",
   "version": "3.12.4"
  }
 },
 "nbformat": 4,
 "nbformat_minor": 5
}
