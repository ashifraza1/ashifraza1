{
 "cells": [
  {
   "cell_type": "code",
   "execution_count": 7,
   "id": "56980282-6f35-4beb-b4b3-590176a29c36",
   "metadata": {},
   "outputs": [
    {
     "name": "stdin",
     "output_type": "stream",
     "text": [
      "Enter the number of elements in the list:  5\n",
      "Enter element :  3\n",
      "Enter element :  2\n",
      "Enter element :  3\n",
      "Enter element :  780\n",
      "Enter element :  90\n"
     ]
    },
    {
     "name": "stdout",
     "output_type": "stream",
     "text": [
      "The number of distinct elements in the list is: 4\n"
     ]
    }
   ],
   "source": [
    "#WAP program to find the number of distinct element in a list\n",
    "n = int(input(\"Enter the number of elements in the list: \"))\n",
    "my_list = []\n",
    "for i in range(n):\n",
    "  element = int(input(\"Enter element : \"))\n",
    "  my_list.append(element)\n",
    "\n",
    "distinct_elements = []\n",
    "for element in my_list:\n",
    "  if element not in distinct_elements:\n",
    "    distinct_elements.append(element)\n",
    "\n",
    "num_distinct_elements = len(distinct_elements)\n",
    "print(\"The number of distinct elements in the list is:\",num_distinct_elements)"
   ]
  }
 ],
 "metadata": {
  "kernelspec": {
   "display_name": "Python 3 (ipykernel)",
   "language": "python",
   "name": "python3"
  },
  "language_info": {
   "codemirror_mode": {
    "name": "ipython",
    "version": 3
   },
   "file_extension": ".py",
   "mimetype": "text/x-python",
   "name": "python",
   "nbconvert_exporter": "python",
   "pygments_lexer": "ipython3",
   "version": "3.12.4"
  }
 },
 "nbformat": 4,
 "nbformat_minor": 5
}
