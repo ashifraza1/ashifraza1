{
 "cells": [
  {
   "cell_type": "code",
   "execution_count": 9,
   "id": "9a27648b-ba7c-49a4-8637-c69718ef034f",
   "metadata": {},
   "outputs": [
    {
     "name": "stdout",
     "output_type": "stream",
     "text": [
      "[1, 'abc', 84.9, 'a']\n",
      "[1, 'XYZ', 84.9, 'a']\n"
     ]
    }
   ],
   "source": [
    "#slicing operator\n",
    "information=[1,\"abc\",84.9,'a']\n",
    "print(information)\n",
    "information[1]=\"XYZ\"\n",
    "print(information)"
   ]
  },
  {
   "cell_type": "code",
   "execution_count": 7,
   "id": "7b689271-4228-4357-ad21-771ed7539024",
   "metadata": {},
   "outputs": [
    {
     "name": "stdout",
     "output_type": "stream",
     "text": [
      "[1, 'XYZ', 84.9, 'a']\n"
     ]
    }
   ],
   "source": [
    "information[1]=\"XYZ\"\n",
    "print(information)"
   ]
  },
  {
   "cell_type": "code",
   "execution_count": 15,
   "id": "d72b7f99-3aa9-4112-b926-f6c31fd5711d",
   "metadata": {},
   "outputs": [
    {
     "name": "stdout",
     "output_type": "stream",
     "text": [
      "[1, 'XYZ', 84.9, 'a', 'h', 'e', 'l', 'l', '0', 'h', 'e', 'l', 'l', '0', 'h', 'e', 'l', 'l', '0']\n"
     ]
    }
   ],
   "source": [
    "information+=\"hell0\"\n",
    "print(information)"
   ]
  },
  {
   "cell_type": "code",
   "execution_count": 29,
   "id": "241baf51-014b-4d4d-8482-8821832937fb",
   "metadata": {},
   "outputs": [
    {
     "name": "stdout",
     "output_type": "stream",
     "text": [
      "[1, 'XYZ', 84.9]\n"
     ]
    }
   ],
   "source": [
    "information[0:3]\n",
    "print(information[0:3])"
   ]
  },
  {
   "cell_type": "code",
   "execution_count": 33,
   "id": "9b768a97-a33e-4a92-a59a-99efe63e27e2",
   "metadata": {},
   "outputs": [
    {
     "name": "stdout",
     "output_type": "stream",
     "text": [
      "[1]\n"
     ]
    }
   ],
   "source": [
    "information[:1]\n",
    "print(information[:1])\n"
   ]
  },
  {
   "cell_type": "code",
   "execution_count": 35,
   "id": "28e0719a-a3d1-4551-9727-4f18d69c6b70",
   "metadata": {},
   "outputs": [
    {
     "name": "stdout",
     "output_type": "stream",
     "text": [
      "[1, 'XYZ', 84.9]\n"
     ]
    }
   ],
   "source": [
    "information[:3]\n",
    "print(information[:3])\n"
   ]
  },
  {
   "cell_type": "code",
   "execution_count": 37,
   "id": "ff6c19d1-bcb7-4d4f-aabe-b53c5c95a7b7",
   "metadata": {},
   "outputs": [
    {
     "name": "stdout",
     "output_type": "stream",
     "text": [
      "['XYZ', 84.9, 'a', 'h', 'e', 'l', 'l', '0', 'h', 'e', 'l', 'l', '0', 'h', 'e', 'l', 'l', '0']\n"
     ]
    }
   ],
   "source": [
    "information[1:]\n",
    "print(information[1:])\n"
   ]
  },
  {
   "cell_type": "code",
   "execution_count": 39,
   "id": "e852520e-67ac-4232-8b95-48d9e31f626f",
   "metadata": {},
   "outputs": [
    {
     "name": "stdout",
     "output_type": "stream",
     "text": [
      "[1, 'h', '0', 'l', 'l']\n"
     ]
    }
   ],
   "source": [
    "information[::4]\n",
    "print(information[::4])\n"
   ]
  },
  {
   "cell_type": "code",
   "execution_count": 49,
   "id": "7b93547b-e390-41b0-8722-2d14bebd3b7c",
   "metadata": {},
   "outputs": [
    {
     "data": {
      "text/plain": [
       "['0',\n",
       " 'l',\n",
       " 'l',\n",
       " 'e',\n",
       " 'h',\n",
       " '0',\n",
       " 'l',\n",
       " 'l',\n",
       " 'e',\n",
       " 'h',\n",
       " '0',\n",
       " 'l',\n",
       " 'l',\n",
       " 'e',\n",
       " 'h',\n",
       " 'a',\n",
       " 84.9,\n",
       " 'XYZ',\n",
       " 1]"
      ]
     },
     "execution_count": 49,
     "metadata": {},
     "output_type": "execute_result"
    }
   ],
   "source": [
    "information[::-1]"
   ]
  },
  {
   "cell_type": "code",
   "execution_count": 53,
   "id": "f1054db1-939d-4602-99a8-3a5b4b9407df",
   "metadata": {},
   "outputs": [
    {
     "data": {
      "text/plain": [
       "['9876543210', 8.58]"
      ]
     },
     "execution_count": 53,
     "metadata": {},
     "output_type": "execute_result"
    }
   ],
   "source": [
    "stu=[2,\"STU\",8.58,\"female\",\"India\",\"9876543210\"]\n",
    "stu[::-3]\n"
   ]
  },
  {
   "cell_type": "code",
   "execution_count": 55,
   "id": "977c7bf3-f9ce-429b-b075-26f12132c980",
   "metadata": {},
   "outputs": [
    {
     "data": {
      "text/plain": [
       "[2, 8.58, 'India']"
      ]
     },
     "execution_count": 55,
     "metadata": {},
     "output_type": "execute_result"
    }
   ],
   "source": [
    "stu[::2]"
   ]
  },
  {
   "cell_type": "code",
   "execution_count": 59,
   "id": "70d1826d-e49e-486b-9a6a-49efd68477ad",
   "metadata": {},
   "outputs": [
    {
     "name": "stdout",
     "output_type": "stream",
     "text": [
      "[1, 3, 5, 7, 9, 11, 13, 15, 17, 19]\n"
     ]
    }
   ],
   "source": [
    "#wap find 10 odd number\n",
    "list_1=list(range(1,20,2))\n",
    "print(list_1)"
   ]
  },
  {
   "cell_type": "code",
   "execution_count": 85,
   "id": "2fe0ecd2-dc4c-47a6-9e32-2628ab9b1374",
   "metadata": {},
   "outputs": [
    {
     "name": "stdout",
     "output_type": "stream",
     "text": [
      "[1, 2, 3, 4, 5, 6, 7, 8, 9, 10]\n",
      "[1, 3, 5, 7, 9]\n",
      "[2, 4, 6, 8, 10]\n"
     ]
    }
   ],
   "source": [
    "list1=list(range(1,11))\n",
    "print(list1)\n",
    "\n",
    "odd = list1[::2]\n",
    "print(odd)\n",
    "\n",
    "even=list1[1::2]\n",
    "print(even)"
   ]
  },
  {
   "cell_type": "code",
   "execution_count": 95,
   "id": "4cd5d11d-3423-42f7-8ffe-e16700366556",
   "metadata": {},
   "outputs": [
    {
     "name": "stdout",
     "output_type": "stream",
     "text": [
      "['a', 'b', 'c', 'd']\n",
      "['python', 'list']\n",
      "['a', 'b', 'c', 'd', 'python', 'list']\n"
     ]
    }
   ],
   "source": [
    "list_1=['a', 'b', 'c', 'd']\n",
    "print(list_1)\n",
    "list_2=['python','list']\n",
    "print(list_2)\n",
    "sum=list_1+list_2\n",
    "print(sum)"
   ]
  },
  {
   "cell_type": "code",
   "execution_count": 97,
   "id": "12a5357f-b358-4c48-b666-58d22ef84952",
   "metadata": {},
   "outputs": [
    {
     "name": "stdin",
     "output_type": "stream",
     "text": [
      " welcome\n"
     ]
    },
    {
     "data": {
      "text/plain": [
       "['w', 'e', 'l', 'c', 'o', 'm', 'e']"
      ]
     },
     "execution_count": 97,
     "metadata": {},
     "output_type": "execute_result"
    }
   ],
   "source": [
    "string=input()\n",
    "list_1=list(string)\n",
    "list_1"
   ]
  },
  {
   "cell_type": "code",
   "execution_count": 99,
   "id": "fbb2f4fa-0a2e-48c6-80cd-511f246221f2",
   "metadata": {},
   "outputs": [
    {
     "name": "stdin",
     "output_type": "stream",
     "text": [
      " ashifhussain\n"
     ]
    },
    {
     "name": "stdout",
     "output_type": "stream",
     "text": [
      "['a', 's', 'h', 'i', 'f', 'h', 'u', 's', 's', 'a', 'i', 'n']\n"
     ]
    }
   ],
   "source": [
    "string=input()\n",
    "list_1=list(string)\n",
    "print(list_1)"
   ]
  },
  {
   "cell_type": "code",
   "execution_count": 101,
   "id": "cc7dd6b8-e597-423d-ad2e-5a60e6de0ec4",
   "metadata": {},
   "outputs": [
    {
     "name": "stdout",
     "output_type": "stream",
     "text": [
      "[1, 2, 3, 4]\n"
     ]
    }
   ],
   "source": [
    "num=[1,2,3,4]\n",
    "print(num)\n"
   ]
  },
  {
   "cell_type": "code",
   "execution_count": 105,
   "id": "88592c30-0be9-478c-bfac-cb4431c328f3",
   "metadata": {},
   "outputs": [
    {
     "data": {
      "text/plain": [
       "[1, 2, 3, 4, 5, 5]"
      ]
     },
     "execution_count": 105,
     "metadata": {},
     "output_type": "execute_result"
    }
   ],
   "source": [
    "num.append(5)\n",
    "num"
   ]
  },
  {
   "cell_type": "code",
   "execution_count": 107,
   "id": "d7f97a2c-d63a-46c2-b3e8-b403e1920d2d",
   "metadata": {},
   "outputs": [
    {
     "data": {
      "text/plain": [
       "[1, 2, 3, 4, ['one', 'two', 'three', 'four']]"
      ]
     },
     "execution_count": 107,
     "metadata": {},
     "output_type": "execute_result"
    }
   ],
   "source": [
    "num=[1,2,3,4]\n",
    "add_element=[\"one\",\"two\",\"three\",\"four\"]\n",
    "num.append(add_element)\n",
    "num"
   ]
  },
  {
   "cell_type": "code",
   "execution_count": 109,
   "id": "f214f55d-f6c5-469e-85d5-4ac1632c92bc",
   "metadata": {},
   "outputs": [
    {
     "data": {
      "text/plain": [
       "[1, 2, 3, 4, ('one', 'two', 'three', 'four')]"
      ]
     },
     "execution_count": 109,
     "metadata": {},
     "output_type": "execute_result"
    }
   ],
   "source": [
    "num=[1,2,3,4]\n",
    "add_element=(\"one\",\"two\",\"three\",\"four\")\n",
    "num.append(add_element)\n",
    "num"
   ]
  },
  {
   "cell_type": "code",
   "execution_count": 111,
   "id": "8fc71fbc-6442-4daf-9312-459659bfc0ca",
   "metadata": {},
   "outputs": [
    {
     "data": {
      "text/plain": [
       "[1, 2, 3, 4, {'four', 'one', 'three', 'two'}]"
      ]
     },
     "execution_count": 111,
     "metadata": {},
     "output_type": "execute_result"
    }
   ],
   "source": [
    "num=[1,2,3,4]\n",
    "add_element={\"one\",\"two\",\"three\",\"four\"}\n",
    "num.append(add_element)\n",
    "num"
   ]
  },
  {
   "cell_type": "code",
   "execution_count": 113,
   "id": "54678c9b-3b61-4276-b072-678394196c85",
   "metadata": {},
   "outputs": [
    {
     "ename": "TypeError",
     "evalue": "'int' object is not iterable",
     "output_type": "error",
     "traceback": [
      "\u001b[1;31m---------------------------------------------------------------------------\u001b[0m",
      "\u001b[1;31mTypeError\u001b[0m                                 Traceback (most recent call last)",
      "Cell \u001b[1;32mIn[113], line 4\u001b[0m\n\u001b[0;32m      2\u001b[0m num\u001b[38;5;241m=\u001b[39m[\u001b[38;5;241m1\u001b[39m,\u001b[38;5;241m2\u001b[39m,\u001b[38;5;241m3\u001b[39m,\u001b[38;5;241m4\u001b[39m]\n\u001b[0;32m      3\u001b[0m x\u001b[38;5;241m=\u001b[39m\u001b[38;5;241m6\u001b[39m\n\u001b[1;32m----> 4\u001b[0m num\u001b[38;5;241m.\u001b[39mextend(x)\n",
      "\u001b[1;31mTypeError\u001b[0m: 'int' object is not iterable"
     ]
    }
   ],
   "source": [
    "#extending list\n",
    "num=[1,2,3,4]\n",
    "x=6\n",
    "num.extend(x)"
   ]
  },
  {
   "cell_type": "code",
   "execution_count": 115,
   "id": "3ab7a545-fd74-40b4-b374-a7c90c38bb81",
   "metadata": {},
   "outputs": [
    {
     "ename": "AttributeError",
     "evalue": "'list' object attribute 'extend' is read-only",
     "output_type": "error",
     "traceback": [
      "\u001b[1;31m---------------------------------------------------------------------------\u001b[0m",
      "\u001b[1;31mAttributeError\u001b[0m                            Traceback (most recent call last)",
      "Cell \u001b[1;32mIn[115], line 4\u001b[0m\n\u001b[0;32m      1\u001b[0m num\u001b[38;5;241m=\u001b[39m[\u001b[38;5;241m1\u001b[39m,\u001b[38;5;241m2\u001b[39m,\u001b[38;5;241m3\u001b[39m,\u001b[38;5;241m4\u001b[39m]\n\u001b[0;32m      2\u001b[0m add_element\u001b[38;5;241m=\u001b[39m[\u001b[38;5;124m\"\u001b[39m\u001b[38;5;124mone\u001b[39m\u001b[38;5;124m\"\u001b[39m ,\u001b[38;5;124m\"\u001b[39m\u001b[38;5;124mtwo\u001b[39m\u001b[38;5;124m\"\u001b[39m ,\u001b[38;5;124m\"\u001b[39m\u001b[38;5;124mthree\u001b[39m\u001b[38;5;124m\"\u001b[39m ,\u001b[38;5;124m\"\u001b[39m\u001b[38;5;124mfour\u001b[39m\u001b[38;5;124m\"\u001b[39m]\n\u001b[1;32m----> 4\u001b[0m num\u001b[38;5;241m.\u001b[39mextend\u001b[38;5;241m=\u001b[39m(add_element)\n\u001b[0;32m      5\u001b[0m num\n",
      "\u001b[1;31mAttributeError\u001b[0m: 'list' object attribute 'extend' is read-only"
     ]
    }
   ],
   "source": [
    "num=[1,2,3,4]\n",
    "add_element=[\"one\" ,\"two\" ,\"three\" ,\"four\"]\n",
    "\n",
    "num.extend=(add_element)\n",
    "num"
   ]
  }
 ],
 "metadata": {
  "kernelspec": {
   "display_name": "Python 3 (ipykernel)",
   "language": "python",
   "name": "python3"
  },
  "language_info": {
   "codemirror_mode": {
    "name": "ipython",
    "version": 3
   },
   "file_extension": ".py",
   "mimetype": "text/x-python",
   "name": "python",
   "nbconvert_exporter": "python",
   "pygments_lexer": "ipython3",
   "version": "3.12.4"
  }
 },
 "nbformat": 4,
 "nbformat_minor": 5
}
