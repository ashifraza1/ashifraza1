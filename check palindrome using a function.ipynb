{
 "cells": [
  {
   "cell_type": "code",
   "execution_count": 1,
   "id": "8ffa741c-055d-4785-890f-3df09a96d553",
   "metadata": {},
   "outputs": [
    {
     "name": "stdin",
     "output_type": "stream",
     "text": [
      "Enter a word:  level\n"
     ]
    },
    {
     "name": "stdout",
     "output_type": "stream",
     "text": [
      "'level' is a palindrome!\n"
     ]
    }
   ],
   "source": [
    "# Function to check if a string is a palindrome\n",
    "def is_palindrome(string):\n",
    "    reversed_string = \"\"\n",
    "    for i in range(len(string) - 1, -1, -1):\n",
    "        reversed_string += string[i]\n",
    "    return string == reversed_string\n",
    "user_input = input(\"Enter a word: \")\n",
    "if is_palindrome(user_input):\n",
    "    print(f\"'{user_input}' is a palindrome!\")\n",
    "else:\n",
    "    print(f\"'{user_input}' is not a palindrome.\")\n"
   ]
  }
 ],
 "metadata": {
  "kernelspec": {
   "display_name": "Python 3 (ipykernel)",
   "language": "python",
   "name": "python3"
  },
  "language_info": {
   "codemirror_mode": {
    "name": "ipython",
    "version": 3
   },
   "file_extension": ".py",
   "mimetype": "text/x-python",
   "name": "python",
   "nbconvert_exporter": "python",
   "pygments_lexer": "ipython3",
   "version": "3.12.4"
  }
 },
 "nbformat": 4,
 "nbformat_minor": 5
}
