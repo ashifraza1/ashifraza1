{
 "cells": [
  {
   "cell_type": "code",
   "execution_count": null,
   "id": "43f970d3-9f25-4e3d-ace0-acf23a4af743",
   "metadata": {},
   "outputs": [],
   "source": [
    "#write a program to find the repeated items of a tuple\n",
    "input_tuple = (2, 4, 5, 6, 2, 3, 4, 4, 7)\n",
    "number_to_find = 4\n",
    "count = input_tuple.count(number_to_find)\n",
    "print(f\"The number {number_to_find} is repeated {count} times.\")\n"
   ]
  }
 ],
 "metadata": {
  "kernelspec": {
   "display_name": "Python 3 (ipykernel)",
   "language": "python",
   "name": "python3"
  },
  "language_info": {
   "codemirror_mode": {
    "name": "ipython",
    "version": 3
   },
   "file_extension": ".py",
   "mimetype": "text/x-python",
   "name": "python",
   "nbconvert_exporter": "python",
   "pygments_lexer": "ipython3",
   "version": "3.12.4"
  }
 },
 "nbformat": 4,
 "nbformat_minor": 5
}
