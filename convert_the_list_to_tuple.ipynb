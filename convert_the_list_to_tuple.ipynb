{
  "nbformat": 4,
  "nbformat_minor": 0,
  "metadata": {
    "colab": {
      "provenance": []
    },
    "kernelspec": {
      "name": "python3",
      "display_name": "Python 3"
    },
    "language_info": {
      "name": "python"
    }
  },
  "cells": [
    {
      "cell_type": "code",
      "execution_count": 1,
      "metadata": {
        "colab": {
          "base_uri": "https://localhost:8080/"
        },
        "id": "fmAtub9goUGr",
        "outputId": "a5e4721b-681f-460c-c5fc-44c1474c5231"
      },
      "outputs": [
        {
          "output_type": "stream",
          "name": "stdout",
          "text": [
            "Enter the first list element: 4\n",
            "Enter the element: 1\n",
            "Enter the element: 2\n",
            "Enter the element: 3\n",
            "Enter the element: 4\n",
            "List=  [1, 2, 3, 4]\n",
            "Tuple=  (1, 2, 3, 4)\n"
          ]
        }
      ],
      "source": [
        "a=int(input(\"Enter the first list element: \"))\n",
        "b=[]\n",
        "for i in range(a):\n",
        "  b.append(int(input(\"Enter the element: \")))\n",
        "print(\"List= \",b)\n",
        "c=tuple(b)\n",
        "print(\"Tuple= \",c)"
      ]
    }
  ]
}