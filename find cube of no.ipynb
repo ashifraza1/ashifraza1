{
 "cells": [
  {
   "cell_type": "code",
   "execution_count": 1,
   "id": "2084e0c5-5a89-4dd1-87ab-d15996e808a5",
   "metadata": {},
   "outputs": [
    {
     "name": "stdin",
     "output_type": "stream",
     "text": [
      "enter a number 7\n"
     ]
    },
    {
     "data": {
      "text/plain": [
       "343"
      ]
     },
     "execution_count": 1,
     "metadata": {},
     "output_type": "execute_result"
    }
   ],
   "source": [
    "#find the cube of no using function\n",
    "def cube_no(n):\n",
    "    return n**3\n",
    "\n",
    "n=int(input(\"enter a number\")) \n",
    "\n",
    "cube_no(n)"
   ]
  }
 ],
 "metadata": {
  "kernelspec": {
   "display_name": "Python 3 (ipykernel)",
   "language": "python",
   "name": "python3"
  },
  "language_info": {
   "codemirror_mode": {
    "name": "ipython",
    "version": 3
   },
   "file_extension": ".py",
   "mimetype": "text/x-python",
   "name": "python",
   "nbconvert_exporter": "python",
   "pygments_lexer": "ipython3",
   "version": "3.12.4"
  }
 },
 "nbformat": 4,
 "nbformat_minor": 5
}
