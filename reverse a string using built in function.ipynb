{
 "cells": [
  {
   "cell_type": "code",
   "execution_count": null,
   "id": "c36e23c0-b0c2-44e8-9051-9c6679725968",
   "metadata": {},
   "outputs": [],
   "source": [
    "#use built in function to reverse a string\n",
    "def reverse_string(input_string):\n",
    "    return ''.join(reversed(input_string))\n",
    "input_string = \"BCA2024\"\n",
    "\n",
    "reversed_result = reverse_string(input_string)\n",
    "print(\"Original String:\", input_string)\n",
    "print(\"Reversed String:\", reversed_result)  "
   ]
  }
 ],
 "metadata": {
  "kernelspec": {
   "display_name": "Python 3 (ipykernel)",
   "language": "python",
   "name": "python3"
  },
  "language_info": {
   "codemirror_mode": {
    "name": "ipython",
    "version": 3
   },
   "file_extension": ".py",
   "mimetype": "text/x-python",
   "name": "python",
   "nbconvert_exporter": "python",
   "pygments_lexer": "ipython3",
   "version": "3.12.4"
  }
 },
 "nbformat": 4,
 "nbformat_minor": 5
}
