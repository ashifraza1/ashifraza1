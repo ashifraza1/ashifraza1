{
 "cells": [
  {
   "cell_type": "code",
   "execution_count": 5,
   "id": "7e4801b8-c35b-4668-af9e-0748cfb3d13c",
   "metadata": {},
   "outputs": [
    {
     "name": "stdout",
     "output_type": "stream",
     "text": [
      "2\n"
     ]
    }
   ],
   "source": [
    "input_tuple = (\"python\")\n",
    "item_to_find = \"t\"\n",
    "for index, item in enumerate(input_tuple):\n",
    "    if item == item_to_find:\n",
    "        print(index)\n",
    "        break"
   ]
  },
  {
   "cell_type": "code",
   "execution_count": 9,
   "id": "184b243c-16a4-4a51-8afc-ffae4996bf78",
   "metadata": {},
   "outputs": [
    {
     "name": "stdout",
     "output_type": "stream",
     "text": [
      "0\n"
     ]
    }
   ],
   "source": [
    "input_tuple = (\"Adams\")\n",
    "item_to_find = \"A\"\n",
    "for index, item in enumerate(input_tuple):\n",
    "    if item == item_to_find:\n",
    "        print(index)\n",
    "        break"
   ]
  }
 ],
 "metadata": {
  "kernelspec": {
   "display_name": "Python 3 (ipykernel)",
   "language": "python",
   "name": "python3"
  },
  "language_info": {
   "codemirror_mode": {
    "name": "ipython",
    "version": 3
   },
   "file_extension": ".py",
   "mimetype": "text/x-python",
   "name": "python",
   "nbconvert_exporter": "python",
   "pygments_lexer": "ipython3",
   "version": "3.12.4"
  }
 },
 "nbformat": 4,
 "nbformat_minor": 5
}
