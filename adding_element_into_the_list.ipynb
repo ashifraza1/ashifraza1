{
  "nbformat": 4,
  "nbformat_minor": 0,
  "metadata": {
    "colab": {
      "provenance": []
    },
    "kernelspec": {
      "name": "python3",
      "display_name": "Python 3"
    },
    "language_info": {
      "name": "python"
    }
  },
  "cells": [
    {
      "cell_type": "code",
      "execution_count": 5,
      "metadata": {
        "colab": {
          "base_uri": "https://localhost:8080/"
        },
        "id": "b1UqnU1bpdfX",
        "outputId": "d8b62508-068d-4ee2-cb12-211b27dc37f6"
      },
      "outputs": [
        {
          "output_type": "stream",
          "name": "stdout",
          "text": [
            "Enter the string to add: p\n",
            "('F', 'a', 'c', 'e', '', 'p', 'r', 'e', 'p')\n"
          ]
        }
      ],
      "source": [
        "#write a program to add an item in a tuple\n",
        "original_tuple = ('F', 'a', 'c', 'e', '', 'p', 'r', 'e')\n",
        "string_to_add = input(\"Enter the string to add: \")\n",
        "tuple_list = list(original_tuple)\n",
        "tuple_list.append(string_to_add)\n",
        "updated_tuple = tuple(tuple_list)\n",
        "print(updated_tuple)"
      ]
    }
  ]
}