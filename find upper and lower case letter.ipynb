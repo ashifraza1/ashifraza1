{
 "cells": [
  {
   "cell_type": "code",
   "execution_count": 2,
   "id": "2cc16f98-b5d6-499a-a402-683ee02ea904",
   "metadata": {},
   "outputs": [
    {
     "name": "stdout",
     "output_type": "stream",
     "text": [
      "Number of uppercase letters: 3\n",
      "Number of lowercase letters: 9\n"
     ]
    }
   ],
   "source": [
    "def count_case(input_string):\n",
    "    upper_count = 0\n",
    "    lower_count= 0\n",
    "    for char in input_string:\n",
    "        if char.isupper():  \n",
    "            upper_count += 1\n",
    "        elif char.islower():  \n",
    "            lower_count += 1\n",
    "\n",
    "    return upper_count, lower_count\n",
    "input_string = \"Have a Nice Day\"\n",
    "upper_count, lower_count = count_case(input_string)\n",
    "print(\"Number of uppercase letters:\", upper_count)\n",
    "print(\"Number of lowercase letters:\", lower_count)\n"
   ]
  }
 ],
 "metadata": {
  "kernelspec": {
   "display_name": "Python 3 (ipykernel)",
   "language": "python",
   "name": "python3"
  },
  "language_info": {
   "codemirror_mode": {
    "name": "ipython",
    "version": 3
   },
   "file_extension": ".py",
   "mimetype": "text/x-python",
   "name": "python",
   "nbconvert_exporter": "python",
   "pygments_lexer": "ipython3",
   "version": "3.12.4"
  }
 },
 "nbformat": 4,
 "nbformat_minor": 5
}
