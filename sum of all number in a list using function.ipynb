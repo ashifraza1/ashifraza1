{
 "cells": [
  {
   "cell_type": "code",
   "execution_count": null,
   "id": "989cbb97-4e95-4084-a168-8f5511ecf997",
   "metadata": {},
   "outputs": [],
   "source": [
    "#sum of all number in a list without using built in function\n",
    "def sum_of_list(list):\n",
    "  s=0\n",
    "  for i in list:\n",
    "    s=s+i\n",
    "  return s\n",
    "list=[1,2,3,4,5]\n",
    "result=sum_of_list(list)\n",
    "print(result)    "
   ]
  }
 ],
 "metadata": {
  "kernelspec": {
   "display_name": "Python 3 (ipykernel)",
   "language": "python",
   "name": "python3"
  },
  "language_info": {
   "codemirror_mode": {
    "name": "ipython",
    "version": 3
   },
   "file_extension": ".py",
   "mimetype": "text/x-python",
   "name": "python",
   "nbconvert_exporter": "python",
   "pygments_lexer": "ipython3",
   "version": "3.12.4"
  }
 },
 "nbformat": 4,
 "nbformat_minor": 5
}
